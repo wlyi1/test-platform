{
 "cells": [
  {
   "cell_type": "code",
   "execution_count": null,
   "id": "819363c7",
   "metadata": {},
   "outputs": [],
   "source": [
    "import streamlit as st\n",
    "import datetime\n",
    "\n",
    "st.title('Counter Example')\n",
    "if 'count' not in st.session_state:\n",
    "    st.session_state.count = 0\n",
    "    st.session_state.last_updated = datetime.time(0,0)\n",
    "\n",
    "def update_counter():\n",
    "    st.session_state.count += st.session_state.increment_value\n",
    "    st.session_state.last_updated = st.session_state.update_time\n",
    "\n",
    "with st.form(key='my_form'):\n",
    "    st.time_input(label='Enter the time', value=datetime.datetime.now().time(), key='update_time')\n",
    "    st.number_input('Enter a value', value=0, step=1, key='increment_value')\n",
    "    submit = st.form_submit_button(label='Update', on_click=update_counter)\n",
    "\n",
    "st.write('Current Count = ', st.session_state.count)\n",
    "st.write('Last Updated = ', st.session_state.last_updated)"
   ]
  }
 ],
 "metadata": {
  "kernelspec": {
   "display_name": "Python 3 (ipykernel)",
   "language": "python",
   "name": "python3"
  },
  "language_info": {
   "codemirror_mode": {
    "name": "ipython",
    "version": 3
   },
   "file_extension": ".py",
   "mimetype": "text/x-python",
   "name": "python",
   "nbconvert_exporter": "python",
   "pygments_lexer": "ipython3",
   "version": "3.10.4"
  }
 },
 "nbformat": 4,
 "nbformat_minor": 5
}
