{
 "cells": [
  {
   "cell_type": "code",
   "execution_count": null,
   "id": "e8f297d8",
   "metadata": {},
   "outputs": [],
   "source": [
    "#empty chart\n",
    "c1, c2 = st.columns(2)\n",
    "with c1:\n",
    "    space_initial = st.empty()\n",
    "with c2:\n",
    "    space_initial_2 = st.empty()\n",
    "\n",
    "#chart parameter\n",
    "pH = chart('pH', 'Date', df[-24:]['pH'], df[-24:]['TGL'], title= 'Grafik pH')\n",
    "DO = chart('DO', 'Date', df[-24:]['DO_'], df[-24:]['TGL'], title= 'Grafik DO')\n",
    "NH = chart('NH', 'Date', df[-24:]['NH4'], df[-24:]['TGL'], title= 'Grafik NH')\n",
    "NO = chart('NO', 'Date', df[-24:]['NO3'], df[-24:]['TGL'], title= 'Grafik NO')\n",
    "\n",
    "#dataframe parameter\n",
    "data_pH = df[-24:][['TGL', 'pH']]\n",
    "data_DO = df[-24:][['TGL', 'DO_']]\n",
    "data_NH = df[-24:][['TGL', 'NH4']]\n",
    "data_NO = df[-24:][['TGL', 'NO3']]\n",
    "\n",
    "\n",
    "#chart column\n",
    "    \n",
    "if option == 'pH':\n",
    "    space_initial.write(pH)\n",
    "    space_initial_2.write(data_pH)\n",
    "elif option == 'DO':\n",
    "    space_initial.write(DO)\n",
    "    space_initial_2.write(data_DO)\n",
    "elif option == 'NH4':\n",
    "    space_initial.write(NH)\n",
    "    space_initial_2.write(data_NH)\n",
    "elif option == 'NO3':\n",
    "    space_initial.write(NO)\n",
    "    space_initial_2.write(data_NO)"
   ]
  },
  {
   "cell_type": "code",
   "execution_count": null,
   "id": "7ed00cdb",
   "metadata": {},
   "outputs": [],
   "source": [
    "@st.experimental_memo(suppress_st_warning=True)\n",
    "def chart(ylabel, xlabel, yvalues, xvalues, title=''):\n",
    "    #create new graph\n",
    "    \n",
    "    fig = plt.figure(figsize = (10,7))\n",
    "    plt.plot(xvalues, yvalues)\n",
    "    plt.title(title, fontsize = 20, fontweight = 'bold')\n",
    "    plt.ylabel(ylabel)\n",
    "    plt.xlabel(xlabel)\n",
    "    return fig"
   ]
  }
 ],
 "metadata": {
  "kernelspec": {
   "display_name": "Python 3 (ipykernel)",
   "language": "python",
   "name": "python3"
  },
  "language_info": {
   "codemirror_mode": {
    "name": "ipython",
    "version": 3
   },
   "file_extension": ".py",
   "mimetype": "text/x-python",
   "name": "python",
   "nbconvert_exporter": "python",
   "pygments_lexer": "ipython3",
   "version": "3.10.4"
  }
 },
 "nbformat": 4,
 "nbformat_minor": 5
}
