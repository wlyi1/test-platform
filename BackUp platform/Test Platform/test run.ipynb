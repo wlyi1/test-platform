{
 "cells": [
  {
   "cell_type": "code",
   "execution_count": 1,
   "id": "b433b761",
   "metadata": {},
   "outputs": [],
   "source": [
    "from PIL import Image\n",
    "from PIL import ImageDraw\n",
    "from PIL import ImageFont\n",
    "image = Image.open('ol41.png')\n",
    "font = ImageFont.truetype('Montserrat SemiBold 600.ttf', 26)"
   ]
  },
  {
   "cell_type": "code",
   "execution_count": 3,
   "id": "ff027705",
   "metadata": {},
   "outputs": [],
   "source": [
    "img= ImageDraw.Draw(image)\n",
    "texts = ['12','13','14','15','16','17','18']\n",
    "n = 227\n",
    "for i, j in zip(range(7), texts):\n",
    "    img.text((230,n), j, font = font, fill=(0,0,0))\n",
    "    n += 43\n",
    "    \n",
    "image.save('klhk-41.png')"
   ]
  },
  {
   "cell_type": "code",
   "execution_count": null,
   "id": "d3ad87e2",
   "metadata": {},
   "outputs": [],
   "source": [
    "import pandas as pd\n",
    "import matplotlib.pyplot as plt\n",
    "\n",
    "def chart(ylabel, xlabel, yvalues, xvalues, title=''):\n",
    "    #create new graph\n",
    "    \n",
    "    fig = plt.figure(figsize = (10,7))\n",
    "    plt.plot(xvalues, yvalues)\n",
    "    plt.title(title, fontsize = 20, fontweight = 'bold')\n",
    "    plt.ylabel(ylabel)\n",
    "    plt.xlabel(xlabel)\n",
    "    return fig"
   ]
  },
  {
   "cell_type": "code",
   "execution_count": 163,
   "id": "6d0518b4",
   "metadata": {},
   "outputs": [],
   "source": [
    "def donut_ph(x):\n",
    "    fig, ax = plt.subplots(subplot_kw=dict(aspect='equal'))\n",
    "    status =['Anomali', 'Normal']\n",
    "    data = x\n",
    "    wedges, texts,_ = ax.pie(data, wedgeprops=dict(width=0.3), autopct='%1.1f%%', colors=['#0071bc','#6ce5e8'], startangle = -90)\n",
    "    bbox_props = dict(boxstyle='square, pad=0.3', fc='w', ec='k', lw=0.72)\n",
    "    kw = dict(arrowprops=dict(arrowstyle=\"-\"),\n",
    "          bbox=bbox_props, zorder=0, va=\"center\")\n",
    "    fig = plt.gcf()\n",
    "    fig.set_size_inches(1.5,1.5)\n",
    "    return fig"
   ]
  },
  {
   "cell_type": "code",
   "execution_count": 174,
   "id": "06aba32d",
   "metadata": {},
   "outputs": [],
   "source": [
    "def donut_(x):\n",
    "    fig, ax = plt.subplots(subplot_kw=dict(aspect='equal'))\n",
    "    status =['Anomali', 'Normal']\n",
    "    data = x\n",
    "    wedges, texts,_ = ax.pie(data, wedgeprops=dict(width=0.3), autopct='%1.1f%%', colors=['#0071bc','#6ce5e8'], startangle = -90)\n",
    "    bbox_props = dict(boxstyle='square, pad=0.3', fc='w', ec='k', lw=0.72)\n",
    "    kw = dict(arrowprops=dict(arrowstyle=\"-\"),\n",
    "          bbox=bbox_props, zorder=0, va=\"center\")\n",
    "    fig = plt.gcf()\n",
    "    fig.set_size_inches(1.5,1.5)\n",
    "    \n",
    "    for i, p in enumerate(wedges):\n",
    "        ang = (p.theta2 - p.theta1)/2. + p.theta1\n",
    "        y = np.sin(np.deg2rad(ang))\n",
    "        x = np.cos(np.deg2rad(ang))\n",
    "        horizontalalignment = {-1: \"right\", 1: \"left\"}[int(np.sign(x))]\n",
    "        connectionstyle = \"angle,angleA=0,angleB={}\".format(ang)\n",
    "        kw[\"arrowprops\"].update({\"connectionstyle\": connectionstyle})\n",
    "        ax.annotate(x[i], xy=(x, y), xytext=(1.35*np.sign(x), 1.4*y),\n",
    "        horizontalalignment=horizontalalignment, **kw)\n",
    "    return fig\n"
   ]
  },
  {
   "cell_type": "code",
   "execution_count": 177,
   "id": "b214c31a",
   "metadata": {},
   "outputs": [
    {
     "name": "stdout",
     "output_type": "stream",
     "text": [
      "Figure(108x108)\n"
     ]
    },
    {
     "data": {
      "image/png": "[encoded data removed]",
      "text/plain": [
       "<Figure size 108x108 with 1 Axes>"
      ]
     },
     "metadata": {},
     "output_type": "display_data"
    }
   ],
   "source": [
    "data_x = [45,55]\n",
    "print(donut_ph(data_x))"
   ]
  },
  {
   "cell_type": "code",
   "execution_count": 173,
   "id": "aa83d7d2",
   "metadata": {},
   "outputs": [
    {
     "data": {
      "image/png": "[encoded data removed]",
      "text/plain": [
       "<Figure size 108x108 with 1 Axes>"
      ]
     },
     "metadata": {},
     "output_type": "display_data"
    }
   ],
   "source": [
    "fig1 = donut_([35,65])\n",
    "fig = plt.gcf()\n",
    "fig.set_size_inches(1.5,1.5)\n",
    "fig1.savefig('ph1.png', dpi = 300, transparent = True)"
   ]
  },
  {
   "cell_type": "code",
   "execution_count": 225,
   "id": "aced7bbc",
   "metadata": {},
   "outputs": [],
   "source": [
    "import seaborn as sns\n",
    "def bar(data_bar, filename) :\n",
    "    fig = plt.figure()\n",
    "    acts = ['A', 'B', 'C', 'D']\n",
    "    data = data_bar\n",
    "    plt.bar(acts, data)\n",
    "    plt.ylabel('Frekuensi')\n",
    "    sns.despine()\n",
    "    fig = plt.gcf()\n",
    "    #fig.set_size_inches(1.5,1.1)\n",
    "    fig.savefig(filename, dpi = 300)"
   ]
  },
  {
   "cell_type": "code",
   "execution_count": 226,
   "id": "b0006f65",
   "metadata": {},
   "outputs": [
    {
     "data": {
      "image/png": "[encoded data removed]",
      "text/plain": [
       "<Figure size 432x288 with 1 Axes>"
      ]
     },
     "metadata": {
      "needs_background": "light"
     },
     "output_type": "display_data"
    }
   ],
   "source": [
    "fig1 = bar([3,6,8,12], 'bar_7.png')\n",
    "\n",
    "back = Image.open('new_base.png').convert('RGBA')\n",
    "graph = Image.open('bar_7.png')\n",
    "\n",
    "#back = back.convert('RGBA')\n",
    "graph = graph.convert('RGBA')\n",
    "new_size = (600,400)\n",
    "graph = graph.resize(new_size)\n",
    "font = ImageFont.truetype('Montserrat SemiBold 600.ttf', 26)\n",
    "text = '18'\n",
    "\n",
    "width = (back.width - graph.width)//2\n",
    "height = (back.height - graph.height)//2\n",
    "\n",
    "back.paste(graph, (480, 180), graph)\n",
    "back.save('bar_41.png', format='png')"
   ]
  },
  {
   "cell_type": "code",
   "execution_count": 148,
   "id": "3c22048e",
   "metadata": {},
   "outputs": [],
   "source": [
    "def paste_img(ph, do, no, nh, background, filename):\n",
    "    img_ph = Image.open(f'{ph}.png').convert('RGBA')\n",
    "    img_do = Image.open(f'{do}.png').convert('RGBA')\n",
    "    img_no = Image.open(f'{no}.png').convert('RGBA')\n",
    "    img_nh = Image.open(f'{nh}.png').convert('RGBA')\n",
    "    img_back = Image.open(f'{background}.png').convert('RGBA')\n",
    "    img_back.paste(img_ph, (20,620), img_ph)\n",
    "    img_back.paste(img_do, (340,620), img_do)\n",
    "    img_back.paste(img_no, (660,620), img_no)\n",
    "    img_back.paste(img_nh, (980,620), img_nh)\n",
    "    img_back.save(f'{filename}.png', format='png')"
   ]
  },
  {
   "cell_type": "code",
   "execution_count": 149,
   "id": "e7dcb392",
   "metadata": {},
   "outputs": [],
   "source": [
    "paste_img('ph_29','do_29','no_29','nh_29','bar_41','report_gbr')"
   ]
  },
  {
   "cell_type": "code",
   "execution_count": 187,
   "id": "df0e7284",
   "metadata": {},
   "outputs": [],
   "source": [
    "image = Image.open('report_gbr.png')\n",
    "font = ImageFont.truetype('Montserrat SemiBold 600.ttf', 26)\n",
    "font_skor = ImageFont.truetype('Montserrat SemiBold 600.ttf', 86)\n",
    "\n",
    "img= ImageDraw.Draw(image)\n",
    "texts = ['12','13','14','15','16','17','18']\n",
    "n = 227\n",
    "for i, j in zip(range(7), texts):\n",
    "    img.text((230,n), j, font = font, fill=(0,0,0))\n",
    "    n += 43\n",
    "img.text((655,1845), '80', font = font_skor, fill=(0,0,0))    \n",
    "image.save('rep_klhk-41.png')"
   ]
  },
  {
   "cell_type": "code",
   "execution_count": 192,
   "id": "07fa677e",
   "metadata": {},
   "outputs": [],
   "source": [
    "import pandas as pd\n",
    "df = pd.read_csv('log_41.csv')"
   ]
  },
  {
   "cell_type": "code",
   "execution_count": 203,
   "id": "7c9b0705",
   "metadata": {},
   "outputs": [],
   "source": [
    "aksi = df['Aksi'].values.tolist()"
   ]
  },
  {
   "cell_type": "code",
   "execution_count": 204,
   "id": "d90c2b51",
   "metadata": {},
   "outputs": [
    {
     "data": {
      "text/plain": [
       "['Reset logger',\n",
       " 'Mencelupkan sensor ke air bersih',\n",
       " 'Mencelupkan sensor ke air bersih',\n",
       " 'Kalibrasi ulang',\n",
       " 'Membersihkan sensor',\n",
       " 'Mencelupkan sensor ke air bersih',\n",
       " 'Membersihkan sensor',\n",
       " 'Mencelupkan sensor ke air bersih',\n",
       " 'Panel surya kurang dapat pencahayaan',\n",
       " 'Reset logger',\n",
       " 'Membersihkan sensor',\n",
       " 'Membersihkan sensor',\n",
       " 'Mencelupkan sensor ke air bersih',\n",
       " 'Reset logger',\n",
       " 'Banjir ']"
      ]
     },
     "execution_count": 204,
     "metadata": {},
     "output_type": "execute_result"
    }
   ],
   "source": [
    "aksi"
   ]
  },
  {
   "cell_type": "code",
   "execution_count": 202,
   "id": "fe0bcbf6",
   "metadata": {},
   "outputs": [
    {
     "data": {
      "text/html": [
       "<div>\n",
       "<style scoped>\n",
       "    .dataframe tbody tr th:only-of-type {\n",
       "        vertical-align: middle;\n",
       "    }\n",
       "\n",
       "    .dataframe tbody tr th {\n",
       "        vertical-align: top;\n",
       "    }\n",
       "\n",
       "    .dataframe thead th {\n",
       "        text-align: right;\n",
       "    }\n",
       "</style>\n",
       "<table border=\"1\" class=\"dataframe\">\n",
       "  <thead>\n",
       "    <tr style=\"text-align: right;\">\n",
       "      <th></th>\n",
       "      <th>Tanggal</th>\n",
       "      <th>Aksi</th>\n",
       "    </tr>\n",
       "  </thead>\n",
       "  <tbody>\n",
       "    <tr>\n",
       "      <th>0</th>\n",
       "      <td>2022-06-21 12:05:11.892172</td>\n",
       "      <td>Reset logger</td>\n",
       "    </tr>\n",
       "    <tr>\n",
       "      <th>1</th>\n",
       "      <td>2022-06-21 13:05:46.133317</td>\n",
       "      <td>Mencelupkan sensor ke air bersih</td>\n",
       "    </tr>\n",
       "    <tr>\n",
       "      <th>2</th>\n",
       "      <td>2022-06-21 13:05:51.508855</td>\n",
       "      <td>Mencelupkan sensor ke air bersih</td>\n",
       "    </tr>\n",
       "    <tr>\n",
       "      <th>3</th>\n",
       "      <td>2022-06-21 13:05:57.788854</td>\n",
       "      <td>Kalibrasi ulang</td>\n",
       "    </tr>\n",
       "    <tr>\n",
       "      <th>4</th>\n",
       "      <td>2022-06-21 13:06:05.930962</td>\n",
       "      <td>Membersihkan sensor</td>\n",
       "    </tr>\n",
       "  </tbody>\n",
       "</table>\n",
       "</div>"
      ],
      "text/plain": [
       "                      Tanggal                              Aksi\n",
       "0  2022-06-21 12:05:11.892172                      Reset logger\n",
       "1  2022-06-21 13:05:46.133317  Mencelupkan sensor ke air bersih\n",
       "2  2022-06-21 13:05:51.508855  Mencelupkan sensor ke air bersih\n",
       "3  2022-06-21 13:05:57.788854                   Kalibrasi ulang\n",
       "4  2022-06-21 13:06:05.930962               Membersihkan sensor"
      ]
     },
     "execution_count": 202,
     "metadata": {},
     "output_type": "execute_result"
    }
   ],
   "source": [
    "df.set_axis([\"Tanggal\", \"Aksi\"],axis=1,inplace=True)\n",
    "df.head()"
   ]
  },
  {
   "cell_type": "code",
   "execution_count": 208,
   "id": "1a2d95c3",
   "metadata": {},
   "outputs": [],
   "source": [
    "def calculate_action(my_list):\n",
    "    freq = {}\n",
    "    for item in my_list:\n",
    "        if (item in freq):\n",
    "            freq[item] += 1\n",
    "        else:\n",
    "            freq[item] = 1\n",
    "    return freq    "
   ]
  },
  {
   "cell_type": "code",
   "execution_count": 211,
   "id": "64a3d4ef",
   "metadata": {},
   "outputs": [],
   "source": [
    "t2=calculate_action(aksi)"
   ]
  },
  {
   "cell_type": "code",
   "execution_count": 212,
   "id": "bb701763",
   "metadata": {},
   "outputs": [
    {
     "data": {
      "text/plain": [
       "dict"
      ]
     },
     "execution_count": 212,
     "metadata": {},
     "output_type": "execute_result"
    }
   ],
   "source": [
    "type(t2)"
   ]
  },
  {
   "cell_type": "code",
   "execution_count": 213,
   "id": "c54471f9",
   "metadata": {},
   "outputs": [
    {
     "data": {
      "text/html": [
       "<div>\n",
       "<style scoped>\n",
       "    .dataframe tbody tr th:only-of-type {\n",
       "        vertical-align: middle;\n",
       "    }\n",
       "\n",
       "    .dataframe tbody tr th {\n",
       "        vertical-align: top;\n",
       "    }\n",
       "\n",
       "    .dataframe thead th {\n",
       "        text-align: right;\n",
       "    }\n",
       "</style>\n",
       "<table border=\"1\" class=\"dataframe\">\n",
       "  <thead>\n",
       "    <tr style=\"text-align: right;\">\n",
       "      <th></th>\n",
       "      <th>Tanggal</th>\n",
       "      <th>Aksi</th>\n",
       "    </tr>\n",
       "  </thead>\n",
       "  <tbody>\n",
       "    <tr>\n",
       "      <th>0</th>\n",
       "      <td>Reset logger</td>\n",
       "      <td>3</td>\n",
       "    </tr>\n",
       "    <tr>\n",
       "      <th>1</th>\n",
       "      <td>Mencelupkan sensor ke air bersih</td>\n",
       "      <td>5</td>\n",
       "    </tr>\n",
       "    <tr>\n",
       "      <th>2</th>\n",
       "      <td>Kalibrasi ulang</td>\n",
       "      <td>1</td>\n",
       "    </tr>\n",
       "    <tr>\n",
       "      <th>3</th>\n",
       "      <td>Membersihkan sensor</td>\n",
       "      <td>4</td>\n",
       "    </tr>\n",
       "    <tr>\n",
       "      <th>4</th>\n",
       "      <td>Panel surya kurang dapat pencahayaan</td>\n",
       "      <td>1</td>\n",
       "    </tr>\n",
       "    <tr>\n",
       "      <th>5</th>\n",
       "      <td>Banjir</td>\n",
       "      <td>1</td>\n",
       "    </tr>\n",
       "  </tbody>\n",
       "</table>\n",
       "</div>"
      ],
      "text/plain": [
       "                                Tanggal  Aksi\n",
       "0                          Reset logger     3\n",
       "1      Mencelupkan sensor ke air bersih     5\n",
       "2                       Kalibrasi ulang     1\n",
       "3                   Membersihkan sensor     4\n",
       "4  Panel surya kurang dapat pencahayaan     1\n",
       "5                               Banjir      1"
      ]
     },
     "execution_count": 213,
     "metadata": {},
     "output_type": "execute_result"
    }
   ],
   "source": [
    "pd.DataFrame(t2.items(), columns=['Tanggal', 'Aksi'])"
   ]
  },
  {
   "cell_type": "code",
   "execution_count": 237,
   "id": "afa58c1d",
   "metadata": {},
   "outputs": [],
   "source": [
    "def bar_(data_bar, filename) :\n",
    "    fig = plt.figure()\n",
    "    acts = ['A', 'B', 'C', 'D', 'E', 'F']\n",
    "    data = data_bar\n",
    "    plt.bar(acts, data)\n",
    "    plt.ylabel('Frekuensi')\n",
    "    sns.despine()\n",
    "    fig = plt.gcf()\n",
    "    #fig.set_size_inches(1.5,1.1)\n",
    "    fig.savefig(filename, dpi = 300)"
   ]
  },
  {
   "cell_type": "code",
   "execution_count": 232,
   "id": "5ad531a8",
   "metadata": {},
   "outputs": [],
   "source": [
    "data_aksi = list(t2.values())"
   ]
  },
  {
   "cell_type": "code",
   "execution_count": 233,
   "id": "22ea445f",
   "metadata": {},
   "outputs": [
    {
     "data": {
      "text/plain": [
       "[3, 5, 1, 4, 1, 1]"
      ]
     },
     "execution_count": 233,
     "metadata": {},
     "output_type": "execute_result"
    }
   ],
   "source": [
    "data_aksi"
   ]
  },
  {
   "cell_type": "code",
   "execution_count": 238,
   "id": "21d97883",
   "metadata": {},
   "outputs": [
    {
     "data": {
      "text/plain": [
       "<Figure size 432x288 with 0 Axes>"
      ]
     },
     "metadata": {},
     "output_type": "display_data"
    }
   ],
   "source": [
    "bar(data_aksi, 'test_bar.png')"
   ]
  },
  {
   "cell_type": "code",
   "execution_count": null,
   "id": "74592532",
   "metadata": {},
   "outputs": [],
   "source": []
  }
 ],
 "metadata": {
  "kernelspec": {
   "display_name": "Python 3 (ipykernel)",
   "language": "python",
   "name": "python3"
  },
  "language_info": {
   "codemirror_mode": {
    "name": "ipython",
    "version": 3
   },
   "file_extension": ".py",
   "mimetype": "text/x-python",
   "name": "python",
   "nbconvert_exporter": "python",
   "pygments_lexer": "ipython3",
   "version": "3.10.4"
  }
 },
 "nbformat": 4,
 "nbformat_minor": 5
}
