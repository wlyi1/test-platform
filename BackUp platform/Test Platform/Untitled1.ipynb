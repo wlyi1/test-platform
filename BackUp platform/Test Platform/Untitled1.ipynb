{
 "cells": [
  {
   "cell_type": "code",
   "execution_count": null,
   "id": "3bb02a8e",
   "metadata": {},
   "outputs": [],
   "source": [
    "Daftar Data:\n",
    "Nama KLHK\n",
    "Jumlah nilai anomali 7 parameter\n",
    "Donut chart 4 parameter kritis\n",
    "Bar frekuensi solusi\n",
    "Kasus\n",
    "Skor\n"
   ]
  },
  {
   "cell_type": "code",
   "execution_count": null,
   "id": "89ed06de",
   "metadata": {},
   "outputs": [],
   "source": []
  }
 ],
 "metadata": {
  "kernelspec": {
   "display_name": "Python 3 (ipykernel)",
   "language": "python",
   "name": "python3"
  },
  "language_info": {
   "codemirror_mode": {
    "name": "ipython",
    "version": 3
   },
   "file_extension": ".py",
   "mimetype": "text/x-python",
   "name": "python",
   "nbconvert_exporter": "python",
   "pygments_lexer": "ipython3",
   "version": "3.10.4"
  }
 },
 "nbformat": 4,
 "nbformat_minor": 5
}
