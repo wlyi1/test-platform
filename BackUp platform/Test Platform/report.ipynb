{
 "cells": [
  {
   "cell_type": "code",
   "execution_count": 6,
   "id": "49043fba",
   "metadata": {},
   "outputs": [],
   "source": [
    "import pandas as pd\n",
    "import datetime\n",
    "from datetime import datetime as dt\n",
    "import docx\n",
    "import pymysql\n",
    "import sqlalchemy as sql"
   ]
  },
  {
   "cell_type": "code",
   "execution_count": 7,
   "id": "6c676541",
   "metadata": {},
   "outputs": [],
   "source": [
    "def run_query(query):\n",
    "    engine = sql.create_engine('mysql+pymysql://root@localhost:3306/onlimo_ma?charset=utf8mb4')\n",
    "    df = pd.read_sql_query(query, engine)\n",
    "    return df\n",
    "\n",
    "def chart(ylabel, xlabel, yvalues, xvalues, title=''):\n",
    "    #create new graph\n",
    "    \n",
    "    fig = plt.figure(figsize = (10,7))\n",
    "    plt.plot(xvalues, yvalues)\n",
    "    plt.title(title, fontsize = 20, fontweight = 'bold')\n",
    "    plt.ylabel(ylabel)\n",
    "    plt.xlabel(xlabel)\n",
    "    return fig\n",
    "\n",
    "\n",
    "df = run_query('select * from ol42;')\n",
    "\n",
    "result_DO = [x for x in df[-24:]['DO_']]\n",
    "result_pH = [x for x in df[-24:]['pH']]\n",
    "\n",
    "result_NH = [x for x in df[-24:]['NH4']]\n",
    "result_NO = [x for x in df[-24:]['NO3']]\n",
    "\n",
    "#nilai abnormal\n",
    "ab_pH = sum(map(lambda x : x<5 and x>9, result_pH))\n",
    "ab_DO = sum(map(lambda x : x<1, result_DO))\n",
    "ab_NH = sum(map(lambda x : x>100, result_NH))\n",
    "ab_NO = sum(map(lambda x : x>100, result_NO))"
   ]
  },
  {
   "cell_type": "code",
   "execution_count": 16,
   "id": "25f01959",
   "metadata": {},
   "outputs": [],
   "source": [
    "doc = docx.Document()\n",
    "from docx.shared import Inches, Cm, Mm\n",
    "\n",
    "sections = doc.sections\n",
    "for section in sections:\n",
    "    section.top_margin = Cm(0)\n",
    "    section.bottom_margin = Cm(0.5)\n",
    "    section.left_margin = Cm(0)\n",
    "    section.right_margin = Cm(1)\n",
    "    section = doc.sections[0]\n",
    "    section.page_height = Mm(297)\n",
    "    section.page_width = Mm(210)\n",
    "\n",
    "doc.add_picture('ol41.png')  \n",
    "# Add a Title to the document \n",
    "doc.add_heading('KLHK 41', 0)\n",
    "doc.add_heading('Jumlah Nilai Anomali', 3)  \n",
    "doc.add_paragraph(ab_pH, style = 'Normal')\n",
    "doc.add_paragraph(ab_pH, style = 'Normal')\n",
    "doc.add_paragraph(ab_pH, style = 'Normal')\n",
    "doc.add_paragraph(ab_pH, style = 'Normal')\n",
    "\n",
    "doc.save('gfg.docx')"
   ]
  },
  {
   "cell_type": "code",
   "execution_count": null,
   "id": "49bba5ca",
   "metadata": {},
   "outputs": [],
   "source": []
  }
 ],
 "metadata": {
  "kernelspec": {
   "display_name": "Python 3 (ipykernel)",
   "language": "python",
   "name": "python3"
  },
  "language_info": {
   "codemirror_mode": {
    "name": "ipython",
    "version": 3
   },
   "file_extension": ".py",
   "mimetype": "text/x-python",
   "name": "python",
   "nbconvert_exporter": "python",
   "pygments_lexer": "ipython3",
   "version": "3.10.4"
  }
 },
 "nbformat": 4,
 "nbformat_minor": 5
}
