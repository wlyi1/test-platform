{
 "cells": [
  {
   "cell_type": "code",
   "execution_count": 1,
   "id": "27eda2a6",
   "metadata": {},
   "outputs": [],
   "source": [
    "from PIL import Image\n",
    "from PIL import ImageDraw\n",
    "from PIL import ImageFont\n",
    "import pandas as pd\n",
    "import matplotlib.pyplot as plt"
   ]
  },
  {
   "cell_type": "code",
   "execution_count": 22,
   "id": "7a8ffa78",
   "metadata": {},
   "outputs": [],
   "source": [
    "#Functions\n",
    "\n",
    "def donut(x, filename):\n",
    "    fig, ax = plt.subplots(subplot_kw=dict(aspect='equal'))\n",
    "    status =['Anomali', 'Normal']\n",
    "    data = x\n",
    "    wedges, texts = ax.pie(data, wedgeprops=dict(width=0.3), colors=['#0071bc','#6ce5e8'], startangle = -90)\n",
    "    bbox_props = dict(boxstyle='square, pad=0.3', fc='w', ec='k', lw=0.72)\n",
    "    kw = dict(arrowprops=dict(arrowstyle=\"-\"),\n",
    "          bbox=bbox_props, zorder=0, va=\"center\")\n",
    "    fig = plt.gcf()\n",
    "    fig.set_size_inches(1.5,1.5)\n",
    "    fig.savefig(f'{filename}.png', dpi = 300, transparent = True)\n",
    "    #return fig\n",
    "\n",
    "def paste_img(ph, do, no, nh, background, filename):\n",
    "    img_ph = Image.open(f'{ph}.png').convert('RGBA')\n",
    "    img_do = Image.open(f'{do}.png').convert('RGBA')\n",
    "    img_no = Image.open(f'{no}.png').convert('RGBA')\n",
    "    img_nh = Image.open(f'{nh}.png').convert('RGBA')\n",
    "    img_back = Image.open(f'{background}.png').convert('RGBA')\n",
    "    img_back.paste(img_ph, (20,620), img_ph)\n",
    "    img_back.paste(img_do, (340,620), img_do)\n",
    "    img_back.paste(img_no, (660,620), img_no)\n",
    "    img_back.paste(img_nh, (980,620), img_nh)\n",
    "    img_back.save(f'{filename}.png', format='png')\n",
    "\n"
   ]
  },
  {
   "cell_type": "code",
   "execution_count": 13,
   "id": "f65b6a42",
   "metadata": {},
   "outputs": [
    {
     "data": {
      "image/png": "[encoded data removed]",
      "text/plain": [
       "<Figure size 108x108 with 1 Axes>"
      ]
     },
     "metadata": {},
     "output_type": "display_data"
    },
    {
     "data": {
      "image/png": "[encoded data removed]",
      "text/plain": [
       "<Figure size 108x108 with 1 Axes>"
      ]
     },
     "metadata": {},
     "output_type": "display_data"
    },
    {
     "data": {
      "image/png": "[encoded data removed]",
      "text/plain": [
       "<Figure size 108x108 with 1 Axes>"
      ]
     },
     "metadata": {},
     "output_type": "display_data"
    },
    {
     "data": {
      "image/png": "[encoded data removed]",
      "text/plain": [
       "<Figure size 108x108 with 1 Axes>"
      ]
     },
     "metadata": {},
     "output_type": "display_data"
    }
   ],
   "source": [
    "chart_ph = donut([30,70], 'ph_29')\n",
    "chart_do = donut([40,60], 'do_29')\n",
    "chart_no = donut([50,50], 'no_29')\n",
    "chart_nh = donut([20,80], 'nh_29')"
   ]
  },
  {
   "cell_type": "code",
   "execution_count": 24,
   "id": "70c75940",
   "metadata": {},
   "outputs": [],
   "source": [
    "chart_29 = paste_img('ph_29', 'do_29', 'no_29', 'nh_29', 'back_ch', 'rep_29')"
   ]
  },
  {
   "cell_type": "code",
   "execution_count": 25,
   "id": "79e1c025",
   "metadata": {},
   "outputs": [],
   "source": [
    "image = Image.open('rep_29.png')\n",
    "\n",
    "font = ImageFont.truetype('Montserrat SemiBold 600.ttf', 26)\n",
    "\n",
    "\n",
    "img= ImageDraw.Draw(image)\n",
    "texts = ['12','13','14','15','16','17','18']\n",
    "n = 227\n",
    "for i, j in zip(range(7), texts):\n",
    "    img.text((230,n), j, font = font, fill=(0,0,0))\n",
    "    n += 43\n",
    "    \n",
    "image.save('rep_29.png')\n"
   ]
  },
  {
   "cell_type": "code",
   "execution_count": 36,
   "id": "65741e94",
   "metadata": {},
   "outputs": [
    {
     "data": {
      "image/png": "[encoded data removed]",
      "text/plain": [
       "<Figure size 108x108 with 1 Axes>"
      ]
     },
     "metadata": {
      "needs_background": "light"
     },
     "output_type": "display_data"
    }
   ],
   "source": [
    "import seaborn as sns\n",
    "fig = plt.figure()\n",
    "ax = fig.add_axes([0,0,1,1])\n",
    "langs = ['A', 'B', 'C', 'D']\n",
    "students = [23,17,35,29]\n",
    "ax.bar(langs,students)\n",
    "sns.despine()\n",
    "fig = plt.gcf()\n",
    "fig.set_size_inches(1.5,1.5)\n",
    "fig.savefig('bar-41.png', dpi = 300, transparent = True)\n"
   ]
  },
  {
   "cell_type": "code",
   "execution_count": null,
   "id": "f594c0d6",
   "metadata": {},
   "outputs": [],
   "source": []
  }
 ],
 "metadata": {
  "kernelspec": {
   "display_name": "Python 3 (ipykernel)",
   "language": "python",
   "name": "python3"
  },
  "language_info": {
   "codemirror_mode": {
    "name": "ipython",
    "version": 3
   },
   "file_extension": ".py",
   "mimetype": "text/x-python",
   "name": "python",
   "nbconvert_exporter": "python",
   "pygments_lexer": "ipython3",
   "version": "3.10.4"
  }
 },
 "nbformat": 4,
 "nbformat_minor": 5
}
