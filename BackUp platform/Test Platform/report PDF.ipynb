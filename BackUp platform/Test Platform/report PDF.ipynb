{
 "cells": [
  {
   "cell_type": "code",
   "execution_count": 1,
   "id": "620cdb48",
   "metadata": {},
   "outputs": [],
   "source": [
    "import pandas as pd\n",
    "import datetime\n",
    "from datetime import datetime as dt\n",
    "import docx\n",
    "import pymysql\n",
    "import sqlalchemy as sql\n",
    "\n",
    "def run_query(query):\n",
    "    engine = sql.create_engine('mysql+pymysql://root@localhost:3306/onlimo_ma?charset=utf8mb4')\n",
    "    df = pd.read_sql_query(query, engine)\n",
    "    return df\n",
    "\n",
    "def chart(ylabel, xlabel, yvalues, xvalues, title=''):\n",
    "    #create new graph\n",
    "    \n",
    "    fig = plt.figure(figsize = (10,7))\n",
    "    plt.plot(xvalues, yvalues)\n",
    "    plt.title(title, fontsize = 20, fontweight = 'bold')\n",
    "    plt.ylabel(ylabel)\n",
    "    plt.xlabel(xlabel)\n",
    "    return fig\n",
    "\n",
    "\n",
    "df = run_query('select * from ol42;')\n",
    "\n",
    "result_DO = [x for x in df[-24:]['DO_']]\n",
    "result_pH = [x for x in df[-24:]['pH']]\n",
    "\n",
    "result_NH = [x for x in df[-24:]['NH4']]\n",
    "result_NO = [x for x in df[-24:]['NO3']]\n",
    "\n",
    "#nilai abnormal\n",
    "ab_pH = sum(map(lambda x : x<5 and x>9, result_pH))\n",
    "ab_DO = sum(map(lambda x : x<1, result_DO))\n",
    "ab_NH = sum(map(lambda x : x>100, result_NH))\n",
    "ab_NO = sum(map(lambda x : x>100, result_NO))"
   ]
  },
  {
   "cell_type": "code",
   "execution_count": 12,
   "id": "7db206fd",
   "metadata": {},
   "outputs": [],
   "source": [
    "from reportlab.pdfgen.canvas import Canvas as canvas\n",
    "\n",
    "canv = Canvas(\"pdffile.pdf\")\n",
    "\n",
    "canv.drawString(72,72,\"This is a PDF file.\")\n",
    "\n",
    "canv.save()"
   ]
  },
  {
   "cell_type": "code",
   "execution_count": 14,
   "id": "1e53060d",
   "metadata": {},
   "outputs": [],
   "source": [
    "rep = Canvas('tets.pdf')\n",
    "rep.drawString(100, 800, '12')\n",
    "rep.showPage()\n",
    "rep.save()"
   ]
  },
  {
   "cell_type": "code",
   "execution_count": 13,
   "id": "94eca85b",
   "metadata": {},
   "outputs": [
    {
     "ename": "AttributeError",
     "evalue": "type object 'Canvas' has no attribute 'Canvas'",
     "output_type": "error",
     "traceback": [
      "\u001b[1;31m---------------------------------------------------------------------------\u001b[0m",
      "\u001b[1;31mAttributeError\u001b[0m                            Traceback (most recent call last)",
      "Input \u001b[1;32mIn [13]\u001b[0m, in \u001b[0;36m<cell line: 3>\u001b[1;34m()\u001b[0m\n\u001b[0;32m      1\u001b[0m \u001b[38;5;28;01mdef\u001b[39;00m \u001b[38;5;21mhello\u001b[39m(c):\n\u001b[0;32m      2\u001b[0m     c\u001b[38;5;241m.\u001b[39mdrawString(\u001b[38;5;241m100\u001b[39m,\u001b[38;5;241m100\u001b[39m,\u001b[38;5;124m\"\u001b[39m\u001b[38;5;124mHello World\u001b[39m\u001b[38;5;124m\"\u001b[39m)\n\u001b[1;32m----> 3\u001b[0m c \u001b[38;5;241m=\u001b[39m \u001b[43mcanvas\u001b[49m\u001b[38;5;241;43m.\u001b[39;49m\u001b[43mCanvas\u001b[49m(\u001b[38;5;124m\"\u001b[39m\u001b[38;5;124mhello.pdf\u001b[39m\u001b[38;5;124m\"\u001b[39m)\n\u001b[0;32m      4\u001b[0m hello(c)\n\u001b[0;32m      5\u001b[0m c\u001b[38;5;241m.\u001b[39mshowPage()\n",
      "\u001b[1;31mAttributeError\u001b[0m: type object 'Canvas' has no attribute 'Canvas'"
     ]
    }
   ],
   "source": [
    "def hello(c):\n",
    "    c.drawString(100,100,\"Hello World\")\n",
    "c = canvas.Canvas(\"hello.pdf\")\n",
    "hello(c)\n",
    "c.showPage()\n",
    "c.save()"
   ]
  },
  {
   "cell_type": "code",
   "execution_count": 47,
   "id": "e0a1e3da",
   "metadata": {},
   "outputs": [],
   "source": [
    "from PIL import Image\n",
    "from PIL import ImageDraw\n",
    "from PIL import ImageFont\n",
    "\n",
    "image = Image.open('ol41.png')\n",
    "font = ImageFont.truetype('Montserrat SemiBold 600.ttf', 26)\n",
    "font1 = ImageFont.truetype('Quicksand-Bold.ttf', 28)\n",
    "text = '18'\n",
    "\n",
    "img= ImageDraw.Draw(image)\n",
    "img.text((230,227), text, font = font, fill=(0,0,0))\n",
    "img.text((230,270), text, font = font, fill=(0,0,0))\n",
    "\n",
    "\n",
    "image.save(f'klhk41.png')"
   ]
  },
  {
   "cell_type": "code",
   "execution_count": 49,
   "id": "81bbd303",
   "metadata": {},
   "outputs": [],
   "source": [
    "texts = ['12','13','14','15','16','17','18']\n",
    "n = 227\n",
    "for i, j in zip(range(7), texts):\n",
    "    img.text((230,n), j, font = font, fill=(0,0,0))\n",
    "    n += 43\n",
    "    \n",
    "image.save(f'klhk41.png')"
   ]
  },
  {
   "cell_type": "code",
   "execution_count": 48,
   "id": "fc8c26bb",
   "metadata": {},
   "outputs": [],
   "source": [
    "n = 227\n",
    "    \n",
    "for i, j in zip(range(7), texts):\n",
    "    img.text((230,n), j, font = font, fill=(0,0,0))\n",
    "    n += 43\n",
    "\n"
   ]
  },
  {
   "cell_type": "code",
   "execution_count": 43,
   "id": "7f1f4e1c",
   "metadata": {},
   "outputs": [],
   "source": [
    "n += 20"
   ]
  },
  {
   "cell_type": "code",
   "execution_count": 44,
   "id": "a3e5374c",
   "metadata": {},
   "outputs": [
    {
     "data": {
      "text/plain": [
       "290"
      ]
     },
     "execution_count": 44,
     "metadata": {},
     "output_type": "execute_result"
    }
   ],
   "source": [
    "n"
   ]
  },
  {
   "cell_type": "code",
   "execution_count": null,
   "id": "5fe8861e",
   "metadata": {},
   "outputs": [],
   "source": []
  }
 ],
 "metadata": {
  "kernelspec": {
   "display_name": "Python 3 (ipykernel)",
   "language": "python",
   "name": "python3"
  },
  "language_info": {
   "codemirror_mode": {
    "name": "ipython",
    "version": 3
   },
   "file_extension": ".py",
   "mimetype": "text/x-python",
   "name": "python",
   "nbconvert_exporter": "python",
   "pygments_lexer": "ipython3",
   "version": "3.10.4"
  }
 },
 "nbformat": 4,
 "nbformat_minor": 5
}
