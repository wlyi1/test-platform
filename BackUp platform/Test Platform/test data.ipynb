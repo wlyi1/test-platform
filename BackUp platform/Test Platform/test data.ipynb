{
 "cells": [
  {
   "cell_type": "code",
   "execution_count": null,
   "id": "071f882e",
   "metadata": {},
   "outputs": [],
   "source": [
    "def donut(x, filename):\n",
    "    fig, ax = plt.subplots(subplot_kw=dict(aspect='equal'))\n",
    "    status =['Anomali', 'Normal']\n",
    "    data = x\n",
    "    wedges, texts,_ = ax.pie(data, wedgeprops=dict(width=0.3), autopct='%1.1%%', colors=['#0071bc','#6ce5e8'], startangle = -90)\n",
    "    bbox_props = dict(boxstyle='square, pad=0.3', fc='w', ec='k', lw=0.72)\n",
    "    kw = dict(arrowprops=dict(arrowstyle=\"-\"),\n",
    "          bbox=bbox_props, zorder=0, va=\"center\")\n",
    "    fig = plt.gcf()\n",
    "    fig.set_size_inches(1.5,1.5)\n",
    "    fig.savefig(filename, dpi = 300, transparent = True)\n",
    "    "
   ]
  },
  {
   "cell_type": "code",
   "execution_count": null,
   "id": "2055ee8b",
   "metadata": {},
   "outputs": [],
   "source": [
    "def bar(data_bar) :\n",
    "    fig = plt.figure()\n",
    "    ax = fig.add_axes([x])\n",
    "    label = ['A', 'B', 'C', 'D']\n",
    "    data = data_bar\n",
    "    ax.bar(label, data)\n",
    "    sns.despine()\n",
    "    fig = plt.gcf()\n",
    "    fig.set_size_inches(1.5,1.5)\n",
    "    fig.savefig(filename, dpi = 300, transparent = True)\n",
    "    "
   ]
  },
  {
   "cell_type": "code",
   "execution_count": null,
   "id": "0927cce7",
   "metadata": {},
   "outputs": [],
   "source": [
    "KLHK = [x for x in range(41,62)]\n",
    "for i in KLHK:\n",
    "    df = run_query(f'select * from ol{i};')\n",
    "    \n",
    "    #recap values from the last 30 days\n",
    "    globals()[f'ph_values_{i}'] = [x for x in df[-24:]['pH']]\n",
    "    globals()[f'do_values_{i}'] = [x for x in df[-24:]['DO_']]\n",
    "    globals()[f'no_values_{i}'] = [x for x in df[-24:]['NO3']]\n",
    "    globals()[f'nh_values_{i}'] = [x for x in df[-24:]['NH4']]\n",
    "    \n",
    "    #recap anomali data one month\n",
    "    globals()[f'ab_ph_{i}'] = sum(map(lambda x : x<5 and x>9, globals()[f'ph_values_{i}']))\n",
    "    globals()[f'ab_do_{i}'] = sum(map(lambda x : x<1, globals()[f'do_values_{i}']))\n",
    "    globals()[f'ab_no_{i}'] = sum(map(lambda x : x>100, globals()[f'no_values_{i}']))\n",
    "    globals()[f'ab_nh_{i}'] = sum(map(lambda x : x>100, globals()[f'nh_values_{i}']))\n",
    "    \n",
    "    globals()[f'no_ph_{i}'] = 720 - globals()[f'ab_ph_{i}']\n",
    "    globals()[f'no_do_{i}'] = 720 - globals()[f'ab_do_{i}']\n",
    "    globals()[f'no_no_{i}'] = 720 - globals()[f'ab_no_{i}']\n",
    "    globals()[f'no_nh_{i}'] = 720 - globals()[f'ab_nh_{i}']\n",
    "    "
   ]
  },
  {
   "cell_type": "code",
   "execution_count": null,
   "id": "d72031f4",
   "metadata": {},
   "outputs": [],
   "source": [
    "month=2\n",
    "days = ...\n",
    "savefile_ph = []\n",
    "savefile_do = []\n",
    "savefile_no = []\n",
    "savefile_nh = []\n",
    "\n",
    "data_ph = []\n",
    "data_do = []\n",
    "data_no = []\n",
    "data_nh = []\n",
    "\n",
    "\n",
    "for i in KLHK:\n",
    "    savefile_ph.append(f'D:\\\\Platform Onlimo\\\\{i}\\\\ph_{month}.png')\n",
    "    savefile_do.append(f'D:\\\\Platform Onlimo\\\\{i}\\\\do_{month}.png')\n",
    "    savefile_no.append(f'D:\\\\Platform Onlimo\\\\{i}\\\\no_{month}.png')\n",
    "    savefile_nh.append(f'D:\\\\Platform Onlimo\\\\{i}\\\\nh_{month}.png')\n",
    "    data_ph.append(globals()[f'ab_ph_{i}'], globals()[f'no_ph_{i}'])\n",
    "    data_do.append(globals()[f'ab_do_{i}'], globals()[f'no_do_{i}'])\n",
    "    data_no.append(globals()[f'ab_no_{i}'], globals()[f'no_no_{i}'])\n",
    "    data_nh.append(globals()[f'ab_nh_{i}'], globals()[f'no_nh_{i}'])\n",
    "\n",
    "    "
   ]
  },
  {
   "cell_type": "code",
   "execution_count": null,
   "id": "74da6960",
   "metadata": {},
   "outputs": [],
   "source": [
    "for i in KLHK:\n",
    "    for j,k in zip(data_ph, savefile_ph):\n",
    "        donut(j,k)"
   ]
  },
  {
   "cell_type": "code",
   "execution_count": null,
   "id": "265a181d",
   "metadata": {},
   "outputs": [],
   "source": [
    "def paste_img(ph, do, no, nh, background, filename):\n",
    "    img_ph = Image.open(f'{ph}.png').convert('RGBA')\n",
    "    img_do = Image.open(f'{do}.png').convert('RGBA')\n",
    "    img_no = Image.open(f'{no}.png').convert('RGBA')\n",
    "    img_nh = Image.open(f'{nh}.png').convert('RGBA')\n",
    "    img_back = Image.open(f'{background}.png').convert('RGBA')\n",
    "    img_back.paste(img_ph, (20,620), img_ph)\n",
    "    img_back.paste(img_do, (340,620), img_do)\n",
    "    img_back.paste(img_no, (660,620), img_no)\n",
    "    img_back.paste(img_nh, (980,620), img_nh)\n",
    "    img_back.save(f'{filename}.png', format='png')\n"
   ]
  },
  {
   "cell_type": "code",
   "execution_count": null,
   "id": "77e6369e",
   "metadata": {},
   "outputs": [],
   "source": [
    "def add_bar(data, file_load, file_base, file_save):\n",
    "    fig1 = bar(data, file_load)\n",
    "\n",
    "    back = Image.open(file_base).convert('RGBA')\n",
    "    graph = Image.open(file_load)\n",
    "\n",
    "    #back = back.convert('RGBA')\n",
    "    graph = graph.convert('RGBA')\n",
    "    new_size = (600,400)\n",
    "    graph = graph.resize(new_size)\n",
    "\n",
    "    back.paste(graph, (480, 180), graph)\n",
    "    back.save(file_save, format='png')"
   ]
  },
  {
   "cell_type": "code",
   "execution_count": null,
   "id": "fe7f5ae5",
   "metadata": {},
   "outputs": [],
   "source": [
    "def add_anomali(filename, filesave):\n",
    "    image = Image.open(filename)\n",
    "    font = ImageFont.truetype('Montserrat SemiBold 600.ttf', 26)\n",
    "    font_skor = ImageFont.truetype('Montserrat SemiBold 600.ttf', 86)\n",
    "\n",
    "    img= ImageDraw.Draw(image)\n",
    "    texts = ['12','13','14','15','16','17','18']\n",
    "    n = 227\n",
    "    for i, j in zip(range(7), texts):\n",
    "        img.text((230,n), j, font = font, fill=(0,0,0))\n",
    "        n += 43\n",
    "    img.text((655,1845), '80', font = font_skor, fill=(0,0,0))\n",
    "\n",
    "    image.save(filesave)"
   ]
  },
  {
   "cell_type": "code",
   "execution_count": null,
   "id": "f21bc80e",
   "metadata": {},
   "outputs": [],
   "source": [
    "def add_text(filename, filesave, anomali, kasus):\n",
    "    image = Image.open(filename)\n",
    "    font = ImageFont.truetype('Montserrat SemiBold 600.ttf', 26)\n",
    "    font_skor = ImageFont.truetype('Montserrat SemiBold 600.ttf', 86)\n",
    "\n",
    "    img= ImageDraw.Draw(image)\n",
    "    texts = anomali\n",
    "    n = 227\n",
    "    for i, j in zip(range(7), texts):\n",
    "        img.text((230,n), j, font = font, fill=(0,0,0))\n",
    "        n += 43\n",
    "    img.text((655,1845), '80', font = font_skor, fill=(0,0,0))\n",
    "\n",
    "    image.save(filesave)"
   ]
  }
 ],
 "metadata": {
  "kernelspec": {
   "display_name": "Python 3 (ipykernel)",
   "language": "python",
   "name": "python3"
  },
  "language_info": {
   "codemirror_mode": {
    "name": "ipython",
    "version": 3
   },
   "file_extension": ".py",
   "mimetype": "text/x-python",
   "name": "python",
   "nbconvert_exporter": "python",
   "pygments_lexer": "ipython3",
   "version": "3.10.4"
  }
 },
 "nbformat": 4,
 "nbformat_minor": 5
}
